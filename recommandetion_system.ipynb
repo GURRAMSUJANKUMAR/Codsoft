{
  "nbformat": 4,
  "nbformat_minor": 0,
  "metadata": {
    "colab": {
      "provenance": [],
      "authorship_tag": "ABX9TyOjFxkPppGwVZvB96DKEjmg",
      "include_colab_link": true
    },
    "kernelspec": {
      "name": "python3",
      "display_name": "Python 3"
    },
    "language_info": {
      "name": "python"
    }
  },
  "cells": [
    {
      "cell_type": "markdown",
      "metadata": {
        "id": "view-in-github",
        "colab_type": "text"
      },
      "source": [
        "<a href=\"https://colab.research.google.com/github/GURRAMSUJANKUMAR/Codsoft/blob/main/recommandetion_system.ipynb\" target=\"_parent\"><img src=\"https://colab.research.google.com/assets/colab-badge.svg\" alt=\"Open In Colab\"/></a>"
      ]
    },
    {
      "cell_type": "code",
      "execution_count": 5,
      "metadata": {
        "colab": {
          "base_uri": "https://localhost:8080/"
        },
        "id": "bDwuvzh1DTP8",
        "outputId": "a633c8c5-e0ec-4963-8a91-cce9d686efab"
      },
      "outputs": [
        {
          "output_type": "stream",
          "name": "stdout",
          "text": [
            "Requirement already satisfied: pandas in /usr/local/lib/python3.10/dist-packages (2.2.2)\n",
            "Requirement already satisfied: numpy in /usr/local/lib/python3.10/dist-packages (1.26.4)\n",
            "Collecting surprise\n",
            "  Downloading surprise-0.1-py2.py3-none-any.whl.metadata (327 bytes)\n",
            "Requirement already satisfied: python-dateutil>=2.8.2 in /usr/local/lib/python3.10/dist-packages (from pandas) (2.8.2)\n",
            "Requirement already satisfied: pytz>=2020.1 in /usr/local/lib/python3.10/dist-packages (from pandas) (2024.2)\n",
            "Requirement already satisfied: tzdata>=2022.7 in /usr/local/lib/python3.10/dist-packages (from pandas) (2024.2)\n",
            "Collecting scikit-surprise (from surprise)\n",
            "  Downloading scikit_surprise-1.1.4.tar.gz (154 kB)\n",
            "\u001b[2K     \u001b[90m━━━━━━━━━━━━━━━━━━━━━━━━━━━━━━━━━━━━━━━━\u001b[0m \u001b[32m154.4/154.4 kB\u001b[0m \u001b[31m6.3 MB/s\u001b[0m eta \u001b[36m0:00:00\u001b[0m\n",
            "\u001b[?25h  Installing build dependencies ... \u001b[?25l\u001b[?25hdone\n",
            "  Getting requirements to build wheel ... \u001b[?25l\u001b[?25hdone\n",
            "  Preparing metadata (pyproject.toml) ... \u001b[?25l\u001b[?25hdone\n",
            "Requirement already satisfied: six>=1.5 in /usr/local/lib/python3.10/dist-packages (from python-dateutil>=2.8.2->pandas) (1.16.0)\n",
            "Requirement already satisfied: joblib>=1.2.0 in /usr/local/lib/python3.10/dist-packages (from scikit-surprise->surprise) (1.4.2)\n",
            "Requirement already satisfied: scipy>=1.6.0 in /usr/local/lib/python3.10/dist-packages (from scikit-surprise->surprise) (1.13.1)\n",
            "Downloading surprise-0.1-py2.py3-none-any.whl (1.8 kB)\n",
            "Building wheels for collected packages: scikit-surprise\n",
            "  Building wheel for scikit-surprise (pyproject.toml) ... \u001b[?25l\u001b[?25hdone\n",
            "  Created wheel for scikit-surprise: filename=scikit_surprise-1.1.4-cp310-cp310-linux_x86_64.whl size=2357295 sha256=83113ba4965b36d3d830db2f4c01682592db897881e8f8698955c2c7e59f1dfe\n",
            "  Stored in directory: /root/.cache/pip/wheels/4b/3f/df/6acbf0a40397d9bf3ff97f582cc22fb9ce66adde75bc71fd54\n",
            "Successfully built scikit-surprise\n",
            "Installing collected packages: scikit-surprise, surprise\n",
            "Successfully installed scikit-surprise-1.1.4 surprise-0.1\n",
            "User  Ratings Data:\n",
            "   user_id  movie_id  rating\n",
            "0        1       101       5\n",
            "1        1       102       4\n",
            "2        1       103       3\n",
            "3        2       101       4\n",
            "4        2       104       5\n",
            "5        3       102       2\n",
            "6        3       103       4\n",
            "7        3       104       5\n",
            "8        4       101       3\n",
            "9        4       103       4\n",
            "RMSE: 0.7365\n",
            "RMSE: 0.7364780924244096\n",
            "\n",
            "Top recommendations for user 1:\n",
            "Movie ID: 101, Predicted Rating: 3.98\n",
            "Movie ID: 104, Predicted Rating: 3.73\n",
            "Movie ID: 103, Predicted Rating: 3.69\n"
          ]
        }
      ],
      "source": [
        "%pip install pandas numpy surprise\n",
        "\n",
        "import pandas as pd\n",
        "from surprise import Dataset, Reader\n",
        "from surprise import SVD\n",
        "from surprise.model_selection import train_test_split\n",
        "from surprise import accuracy\n",
        "\n",
        "# Sample dataset of user ratings for movies\n",
        "data_dict = {\n",
        "    'user_id': [1, 1, 1, 2, 2, 3, 3, 3, 4, 4],\n",
        "    'movie_id': [101, 102, 103, 101, 104, 102, 103, 104, 101, 103],\n",
        "    'rating': [5, 4, 3, 4, 5, 2, 4, 5, 3, 4]\n",
        "}\n",
        "\n",
        "# Create a DataFrame\n",
        "df = pd.DataFrame(data_dict)\n",
        "\n",
        "# Display the DataFrame\n",
        "print(\"User  Ratings Data:\")\n",
        "print(df)\n",
        "\n",
        "# Load the dataset into Surprise\n",
        "reader = Reader(rating_scale=(1, 5))\n",
        "data = Dataset.load_from_df(df[['user_id', 'movie_id', 'rating']], reader)\n",
        "\n",
        "# Split the dataset into training and testing sets\n",
        "trainset, testset = train_test_split(data, test_size=0.2)\n",
        "\n",
        "# Use SVD (Singular Value Decomposition) for collaborative filtering\n",
        "model = SVD()\n",
        "model.fit(trainset)\n",
        "\n",
        "# Make predictions on the test set\n",
        "predictions = model.test(testset)\n",
        "\n",
        "# Calculate and print the RMSE (Root Mean Squared Error)\n",
        "rmse = accuracy.rmse(predictions)\n",
        "print(f\"RMSE: {rmse}\")\n",
        "\n",
        "# Function to get movie recommendations for a user\n",
        "def get_movie_recommendations(user_id, num_recommendations=3):\n",
        "    # Get all movie ids\n",
        "    movie_ids = df['movie_id'].unique()\n",
        "\n",
        "    # Predict ratings for all movies for the given user\n",
        "    user_movie_predictions = []\n",
        "    for movie_id in movie_ids:\n",
        "        predicted_rating = model.predict(user_id, movie_id).est\n",
        "        user_movie_predictions.append((movie_id, predicted_rating))\n",
        "\n",
        "    # Sort the predictions by predicted rating in descending order\n",
        "    user_movie_predictions.sort(key=lambda x: x[1], reverse=True)\n",
        "\n",
        "    # Get the top N recommendations\n",
        "    recommendations = user_movie_predictions[:num_recommendations]\n",
        "    return recommendations\n",
        "\n",
        "# Example: Get recommendations for user 1\n",
        "user_id = 1\n",
        "recommendations = get_movie_recommendations(user_id)\n",
        "\n",
        "print(f\"\\nTop recommendations for user {user_id}:\")\n",
        "for movie_id, rating in recommendations:\n",
        "    print(f\"Movie ID: {movie_id}, Predicted Rating: {rating:.2f}\")"
      ]
    }
  ]
}