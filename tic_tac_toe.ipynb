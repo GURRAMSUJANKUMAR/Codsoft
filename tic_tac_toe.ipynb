{
  "nbformat": 4,
  "nbformat_minor": 0,
  "metadata": {
    "colab": {
      "provenance": [],
      "authorship_tag": "ABX9TyOwXzAe3Psy9nki/gXXysKk",
      "include_colab_link": true
    },
    "kernelspec": {
      "name": "python3",
      "display_name": "Python 3"
    },
    "language_info": {
      "name": "python"
    }
  },
  "cells": [
    {
      "cell_type": "markdown",
      "metadata": {
        "id": "view-in-github",
        "colab_type": "text"
      },
      "source": [
        "<a href=\"https://colab.research.google.com/github/GURRAMSUJANKUMAR/Codsoft/blob/main/tic_tac_toe.ipynb\" target=\"_parent\"><img src=\"https://colab.research.google.com/assets/colab-badge.svg\" alt=\"Open In Colab\"/></a>"
      ]
    },
    {
      "cell_type": "code",
      "execution_count": 3,
      "metadata": {
        "id": "cO22m3Zyr3xY"
      },
      "outputs": [],
      "source": [
        "import math\n",
        "\n",
        "\n",
        "PLAYER_X = 'X'\n",
        "PLAYER_O = 'O'\n",
        "EMPTY = ' '"
      ]
    },
    {
      "cell_type": "code",
      "source": [
        "def print_board(board):\n",
        "    for row in board:\n",
        "        print('|'.join(row))\n",
        "        print('-' * 5)"
      ],
      "metadata": {
        "id": "qre0sFMe5jzt"
      },
      "execution_count": 4,
      "outputs": []
    },
    {
      "cell_type": "code",
      "source": [
        "def check_winner(board):\n",
        "\n",
        "    for i in range(3):\n",
        "        if board[i][0] == board[i][1] == board[i][2] != EMPTY:\n",
        "            return board[i][0]\n",
        "        if board[0][i] == board[1][i] == board[2][i] != EMPTY:\n",
        "            return board[0][i]\n",
        "\n",
        "    if board[0][0] == board[1][1] == board[2][2] != EMPTY:\n",
        "        return board[0][0]\n",
        "    if board[0][2] == board[1][1] == board[2][0] != EMPTY:\n",
        "        return board[0][2]\n",
        "\n",
        "    return None\n",
        "\n",
        "def is_full(board):\n",
        "    return all(cell != EMPTY for row in board for cell in row)"
      ],
      "metadata": {
        "id": "fqjAysoC5ngE"
      },
      "execution_count": 5,
      "outputs": []
    },
    {
      "cell_type": "code",
      "source": [
        "def minimax(board, depth, is_maximizing):\n",
        "    winner = check_winner(board)\n",
        "    if winner == PLAYER_O:\n",
        "        return 10 - depth\n",
        "    elif winner == PLAYER_X:\n",
        "        return depth - 10\n",
        "    elif is_full(board):\n",
        "        return 0\n",
        "\n",
        "    if is_maximizing:\n",
        "        best_score = -math.inf\n",
        "        for i in range(3):\n",
        "            for j in range(3):\n",
        "                if board[i][j] == EMPTY:\n",
        "                    board[i][j] = PLAYER_O\n",
        "                    score = minimax(board, depth + 1, False)\n",
        "                    board[i][j] = EMPTY\n",
        "                    best_score = max(score, best_score)\n",
        "        return best_score\n",
        "    else:\n",
        "        best_score = math.inf\n",
        "        for i in range(3):\n",
        "            for j in range(3):\n",
        "                if board[i][j] == EMPTY:\n",
        "                    board[i][j] = PLAYER_X\n",
        "                    score = minimax(board, depth + 1, True)\n",
        "                    board[i][j] = EMPTY\n",
        "                    best_score = min(score, best_score)\n",
        "        return best_score"
      ],
      "metadata": {
        "id": "NVGBKMVp5vjl"
      },
      "execution_count": 6,
      "outputs": []
    },
    {
      "cell_type": "code",
      "source": [
        "def best_move(board):\n",
        "    best_score = -math.inf\n",
        "    move = (-1, -1)\n",
        "    for i in range(3):\n",
        "        for j in range(3):\n",
        "            if board[i][j] == EMPTY:\n",
        "                board[i][j] = PLAYER_O\n",
        "                score = minimax(board, 0, False)\n",
        "                board[i][j] = EMPTY\n",
        "                if score > best_score:\n",
        "                    best_score = score\n",
        "                    move = (i, j)\n",
        "    return move"
      ],
      "metadata": {
        "id": "QFTaoqZO52Jy"
      },
      "execution_count": 7,
      "outputs": []
    },
    {
      "cell_type": "code",
      "source": [
        "def play_game():\n",
        "    board = [[EMPTY for _ in range(3)] for _ in range(3)]\n",
        "    current_player = PLAYER_X  # Human starts first\n",
        "\n",
        "    while True:\n",
        "        print_board(board)\n",
        "        if current_player == PLAYER_X:\n",
        "            row = int(input(\"Enter row (0, 1, 2): \"))\n",
        "            col = int(input(\"Enter column (0, 1, 2): \"))\n",
        "            if board[row][col] == EMPTY:\n",
        "                board[row][col] = PLAYER_X\n",
        "                if check_winner(board):\n",
        "                    print_board(board)\n",
        "                    print(\"Player X wins!\")\n",
        "                    break\n",
        "                current_player = PLAYER_O\n",
        "            else:\n",
        "                print(\"Invalid move! Try again.\")\n",
        "        else:\n",
        "            print(\"AI is making a move...\")\n",
        "            row, col = best_move(board)\n",
        "            board[row][col] = PLAYER_O\n",
        "            if check_winner(board):\n",
        "                print_board(board)\n",
        "                print(\"Player O (AI) wins!\")\n",
        "                break\n",
        "            current_player = PLAYER_X\n",
        "\n",
        "        if is_full(board):\n",
        "            print_board(board)\n",
        "            print(\"It's a draw!\")\n",
        "            break\n",
        "\n",
        "if __name__ == \"__main__\":\n",
        "    play_game()"
      ],
      "metadata": {
        "colab": {
          "base_uri": "https://localhost:8080/"
        },
        "id": "PyrvpOcG56Lr",
        "outputId": "265b0f7d-ea2d-4408-9c45-d46510608601"
      },
      "execution_count": 10,
      "outputs": [
        {
          "output_type": "stream",
          "name": "stdout",
          "text": [
            " | | \n",
            "-----\n",
            " | | \n",
            "-----\n",
            " | | \n",
            "-----\n",
            "Enter row (0, 1, 2): 1\n",
            "Enter column (0, 1, 2): 1\n",
            " | | \n",
            "-----\n",
            " |X| \n",
            "-----\n",
            " | | \n",
            "-----\n",
            "AI is making a move...\n",
            "O| | \n",
            "-----\n",
            " |X| \n",
            "-----\n",
            " | | \n",
            "-----\n",
            "Enter row (0, 1, 2): 0\n",
            "Enter column (0, 1, 2): 1\n",
            "O|X| \n",
            "-----\n",
            " |X| \n",
            "-----\n",
            " | | \n",
            "-----\n",
            "AI is making a move...\n",
            "O|X| \n",
            "-----\n",
            " |X| \n",
            "-----\n",
            " |O| \n",
            "-----\n",
            "Enter row (0, 1, 2): 2\n",
            "Enter column (0, 1, 2): 0\n",
            "O|X| \n",
            "-----\n",
            " |X| \n",
            "-----\n",
            "X|O| \n",
            "-----\n",
            "AI is making a move...\n",
            "O|X|O\n",
            "-----\n",
            " |X| \n",
            "-----\n",
            "X|O| \n",
            "-----\n",
            "Enter row (0, 1, 2): 1\n",
            "Enter column (0, 1, 2): 0\n",
            "O|X|O\n",
            "-----\n",
            "X|X| \n",
            "-----\n",
            "X|O| \n",
            "-----\n",
            "AI is making a move...\n",
            "O|X|O\n",
            "-----\n",
            "X|X|O\n",
            "-----\n",
            "X|O| \n",
            "-----\n",
            "Enter row (0, 1, 2): 2\n",
            "Enter column (0, 1, 2): 2\n",
            "O|X|O\n",
            "-----\n",
            "X|X|O\n",
            "-----\n",
            "X|O|X\n",
            "-----\n",
            "It's a draw!\n"
          ]
        }
      ]
    }
  ]
}