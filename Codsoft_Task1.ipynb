{
  "cells": [
    {
      "cell_type": "markdown",
      "metadata": {
        "id": "view-in-github",
        "colab_type": "text"
      },
      "source": [
        "<a href=\"https://colab.research.google.com/github/GURRAMSUJANKUMAR/Codsoft/blob/main/Codsoft_Task1.ipynb\" target=\"_parent\"><img src=\"https://colab.research.google.com/assets/colab-badge.svg\" alt=\"Open In Colab\"/></a>"
      ]
    },
    {
      "cell_type": "code",
      "execution_count": 2,
      "metadata": {
        "colab": {
          "base_uri": "https://localhost:8080/"
        },
        "id": "tdOOk1h-ulAm",
        "outputId": "ab61d39a-d9e5-42ba-8d90-9aee263df17d"
      },
      "outputs": [
        {
          "output_type": "stream",
          "name": "stdout",
          "text": [
            "Manni23: Hello! My name is Manni, a simple chatbot. How can I help you today?\n",
            "You: hi\n",
            "Manni23: Hello, How can I assist you?\n",
            "You: r u okay\n",
            "Manni23: Yes,I am alright and good\n",
            "You: what are you\n",
            "Manni23: I am a simple chatbot named as Manni, created to assist you.\n",
            "You: support\n",
            "Manni23: Sure, I'd be happy to help. Could you please provide more details?\n",
            "You: weather\n",
            "Manni23: I'm not connected to the internet, so I can't fetch real-time weather updates.\n",
            "You: ce\n",
            "Manni23: I'm sorry, I don't understand that. Can you please rephrase?\n",
            "You: bye\n",
            "Manni23: Goodbye! Have a great day!\n"
          ]
        }
      ],
      "source": [
        "# Rule-Based Chatbot using if-else statements\n",
        "def Manni23():\n",
        "    print(\"Manni23: Hello! My name is Manni, a simple chatbot. How can I help you today?\")\n",
        "\n",
        "    while True:\n",
        "        user_input = input(\"You: \").strip().lower()\n",
        "\n",
        "        if user_input in [\"exit\", \"quit\", \"bye\"]:\n",
        "            print(\"Manni23: Goodbye! Have a great day!\")\n",
        "            break\n",
        "\n",
        "        elif user_input in [\"hello\", \"hi\", \"hey\"]:\n",
        "            print(\"Manni23: Hello, How can I assist you?\")\n",
        "\n",
        "        elif user_input in [\"how are u\",\"r u okay\",\"how is your day\"]:\n",
        "          print(\"Manni23: Yes,I am alright and good\")\n",
        "\n",
        "        elif \"help\" in user_input or \"support\" in user_input:\n",
        "            print(\"Manni23: Sure, I'd be happy to help. Could you please provide more details?\")\n",
        "\n",
        "        elif \"who are you\" in user_input or \"what are you\" in user_input:\n",
        "            print(\"Manni23: I am a simple chatbot named as Manni, created to assist you.\")\n",
        "\n",
        "        elif \"weather\" in user_input:\n",
        "            print(\"Manni23: I'm not connected to the internet, so I can't fetch real-time weather updates.\")\n",
        "\n",
        "\n",
        "        else:\n",
        "            print(\"Manni23: I'm sorry, I don't understand that. Can you please rephrase?\")\n",
        "\n",
        "\n",
        "if __name__ == \"__main__\":\n",
        "    Manni23()\n"
      ]
    }
  ],
  "metadata": {
    "colab": {
      "provenance": [],
      "authorship_tag": "ABX9TyMh1YolQi4YORJCAZHn62UM",
      "include_colab_link": true
    },
    "kernelspec": {
      "display_name": "Python 3",
      "name": "python3"
    },
    "language_info": {
      "name": "python"
    }
  },
  "nbformat": 4,
  "nbformat_minor": 0
}